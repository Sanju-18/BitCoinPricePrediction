{
  "nbformat": 4,
  "nbformat_minor": 0,
  "metadata": {
    "colab": {
      "name": "Bit coin prediction.ipynb",
      "provenance": [],
      "collapsed_sections": [],
      "mount_file_id": "1oCd418ByE1vgXCsvXY1zRQzjZ69coB-w",
      "authorship_tag": "ABX9TyMVT/qQHp83HBo8zjtVty61",
      "include_colab_link": true
    },
    "kernelspec": {
      "display_name": "Python 3",
      "name": "python3"
    },
    "language_info": {
      "name": "python"
    }
  },
  "cells": [
    {
      "cell_type": "markdown",
      "metadata": {
        "id": "view-in-github",
        "colab_type": "text"
      },
      "source": [
        "<a href=\"https://colab.research.google.com/github/Sanju-18/BitCoinPricePrediction/blob/main/Bit_coin_prediction.ipynb\" target=\"_parent\"><img src=\"https://colab.research.google.com/assets/colab-badge.svg\" alt=\"Open In Colab\"/></a>"
      ]
    },
    {
      "cell_type": "code",
      "metadata": {
        "id": "8c35W9F0pmaY"
      },
      "source": [
        "#from sklearn import preprocessing\n",
        "import numpy as np\n",
        "import pandas as pd\n",
        "import matplotlib.pyplot as plt\n",
        "from sklearn.model_selection import train_test_split"
      ],
      "execution_count": null,
      "outputs": []
    },
    {
      "cell_type": "code",
      "metadata": {
        "colab": {
          "base_uri": "https://localhost:8080/",
          "height": 194
        },
        "id": "zl-f12Z5q7QV",
        "outputId": "4e599197-7cd1-41cb-ee98-191e9527a5b5"
      },
      "source": [
        "df = pd.read_csv('/content/drive/MyDrive/coin_Bitcoin.csv');\n",
        "df.head()"
      ],
      "execution_count": null,
      "outputs": [
        {
          "output_type": "execute_result",
          "data": {
            "text/html": [
              "<div>\n",
              "<style scoped>\n",
              "    .dataframe tbody tr th:only-of-type {\n",
              "        vertical-align: middle;\n",
              "    }\n",
              "\n",
              "    .dataframe tbody tr th {\n",
              "        vertical-align: top;\n",
              "    }\n",
              "\n",
              "    .dataframe thead th {\n",
              "        text-align: right;\n",
              "    }\n",
              "</style>\n",
              "<table border=\"1\" class=\"dataframe\">\n",
              "  <thead>\n",
              "    <tr style=\"text-align: right;\">\n",
              "      <th></th>\n",
              "      <th>SNo</th>\n",
              "      <th>Name</th>\n",
              "      <th>Symbol</th>\n",
              "      <th>Date</th>\n",
              "      <th>High</th>\n",
              "      <th>Low</th>\n",
              "      <th>Open</th>\n",
              "      <th>Close</th>\n",
              "      <th>Volume</th>\n",
              "      <th>Marketcap</th>\n",
              "    </tr>\n",
              "  </thead>\n",
              "  <tbody>\n",
              "    <tr>\n",
              "      <th>0</th>\n",
              "      <td>1</td>\n",
              "      <td>Bitcoin</td>\n",
              "      <td>BTC</td>\n",
              "      <td>2013-04-29 23:59:59</td>\n",
              "      <td>147.488007</td>\n",
              "      <td>134.000000</td>\n",
              "      <td>134.444000</td>\n",
              "      <td>144.539993</td>\n",
              "      <td>0.0</td>\n",
              "      <td>1.603769e+09</td>\n",
              "    </tr>\n",
              "    <tr>\n",
              "      <th>1</th>\n",
              "      <td>2</td>\n",
              "      <td>Bitcoin</td>\n",
              "      <td>BTC</td>\n",
              "      <td>2013-04-30 23:59:59</td>\n",
              "      <td>146.929993</td>\n",
              "      <td>134.050003</td>\n",
              "      <td>144.000000</td>\n",
              "      <td>139.000000</td>\n",
              "      <td>0.0</td>\n",
              "      <td>1.542813e+09</td>\n",
              "    </tr>\n",
              "    <tr>\n",
              "      <th>2</th>\n",
              "      <td>3</td>\n",
              "      <td>Bitcoin</td>\n",
              "      <td>BTC</td>\n",
              "      <td>2013-05-01 23:59:59</td>\n",
              "      <td>139.889999</td>\n",
              "      <td>107.720001</td>\n",
              "      <td>139.000000</td>\n",
              "      <td>116.989998</td>\n",
              "      <td>0.0</td>\n",
              "      <td>1.298955e+09</td>\n",
              "    </tr>\n",
              "    <tr>\n",
              "      <th>3</th>\n",
              "      <td>4</td>\n",
              "      <td>Bitcoin</td>\n",
              "      <td>BTC</td>\n",
              "      <td>2013-05-02 23:59:59</td>\n",
              "      <td>125.599998</td>\n",
              "      <td>92.281898</td>\n",
              "      <td>116.379997</td>\n",
              "      <td>105.209999</td>\n",
              "      <td>0.0</td>\n",
              "      <td>1.168517e+09</td>\n",
              "    </tr>\n",
              "    <tr>\n",
              "      <th>4</th>\n",
              "      <td>5</td>\n",
              "      <td>Bitcoin</td>\n",
              "      <td>BTC</td>\n",
              "      <td>2013-05-03 23:59:59</td>\n",
              "      <td>108.127998</td>\n",
              "      <td>79.099998</td>\n",
              "      <td>106.250000</td>\n",
              "      <td>97.750000</td>\n",
              "      <td>0.0</td>\n",
              "      <td>1.085995e+09</td>\n",
              "    </tr>\n",
              "  </tbody>\n",
              "</table>\n",
              "</div>"
            ],
            "text/plain": [
              "   SNo     Name Symbol  ...       Close  Volume     Marketcap\n",
              "0    1  Bitcoin    BTC  ...  144.539993     0.0  1.603769e+09\n",
              "1    2  Bitcoin    BTC  ...  139.000000     0.0  1.542813e+09\n",
              "2    3  Bitcoin    BTC  ...  116.989998     0.0  1.298955e+09\n",
              "3    4  Bitcoin    BTC  ...  105.209999     0.0  1.168517e+09\n",
              "4    5  Bitcoin    BTC  ...   97.750000     0.0  1.085995e+09\n",
              "\n",
              "[5 rows x 10 columns]"
            ]
          },
          "metadata": {
            "tags": []
          },
          "execution_count": 3
        }
      ]
    },
    {
      "cell_type": "code",
      "metadata": {
        "colab": {
          "base_uri": "https://localhost:8080/",
          "height": 295
        },
        "id": "WzfxqBxVriOz",
        "outputId": "17215718-5398-4113-bc51-cbd0997f5684"
      },
      "source": [
        "plt.plot('Date', 'Close', data=df)\n",
        "plt.xlabel('Date')\n",
        "plt.ylabel('Closing Price')\n",
        "plt.title('Closing price trend')\n",
        "plt.savefig('priceTrend.jpg', format='jpg')"
      ],
      "execution_count": null,
      "outputs": [
        {
          "output_type": "display_data",
          "data": {
            "image/png": "[encoded data removed]",
            "text/plain": [
              "<Figure size 432x288 with 1 Axes>"
            ]
          },
          "metadata": {
            "tags": [],
            "needs_background": "light"
          }
        }
      ]
    },
    {
      "cell_type": "code",
      "metadata": {
        "colab": {
          "base_uri": "https://localhost:8080/",
          "height": 194
        },
        "id": "gfrnt3qkrweT",
        "outputId": "6f7eff59-2ca0-425f-e61e-45d630821ed1"
      },
      "source": [
        "logRegData=df\n",
        "logRegData['PriceDifference']=logRegData['Open']-logRegData['Close']\n",
        "logRegData['UpDown']=np.where(logRegData['PriceDifference']>0,0,1)\n",
        "logRegData['Price'] =logRegData[['Close']].shift(-1)\n",
        "logRegData['Price'] = logRegData['Price'].fillna(method = 'ffill')\n",
        "\n",
        "logRegData.head()\n",
        "\n",
        "'''logRegData['MA_10']=logRegData['Close'].rolling(window=10).mean()\n",
        "logRegData['MA_20']=logRegData['Close'].rolling(window=20).mean()\n",
        "logRegData['STD_10']=logRegData['Close'].rolling(window=10).std()\n",
        "logRegData['STD_20']=logRegData['Close'].rolling(window=20).std()\n",
        "logRegData['EMA_12']=logRegData['Close'].ewm(span=12,adjust=False).mean()\n",
        "logRegData['EMA_26']=logRegData['Close'].ewm(span=26,adjust=False).mean()\n",
        "logRegData['MACD']=logRegData['EMA_12']-logRegData['EMA_26']\n",
        "logRegData['UpperBollinger']=logRegData['MA_20']+2*logRegData['STD_20']\n",
        "logRegData['LowerBollinger']=logRegData['MA_20']-2*logRegData['STD_20']\n",
        "\n",
        "logRegData=logRegData.iloc[20:]'''\n",
        "logRegData.head()"
      ],
      "execution_count": null,
      "outputs": [
        {
          "output_type": "execute_result",
          "data": {
            "text/html": [
              "<div>\n",
              "<style scoped>\n",
              "    .dataframe tbody tr th:only-of-type {\n",
              "        vertical-align: middle;\n",
              "    }\n",
              "\n",
              "    .dataframe tbody tr th {\n",
              "        vertical-align: top;\n",
              "    }\n",
              "\n",
              "    .dataframe thead th {\n",
              "        text-align: right;\n",
              "    }\n",
              "</style>\n",
              "<table border=\"1\" class=\"dataframe\">\n",
              "  <thead>\n",
              "    <tr style=\"text-align: right;\">\n",
              "      <th></th>\n",
              "      <th>SNo</th>\n",
              "      <th>Name</th>\n",
              "      <th>Symbol</th>\n",
              "      <th>Date</th>\n",
              "      <th>High</th>\n",
              "      <th>Low</th>\n",
              "      <th>Open</th>\n",
              "      <th>Close</th>\n",
              "      <th>Volume</th>\n",
              "      <th>Marketcap</th>\n",
              "      <th>PriceDifference</th>\n",
              "      <th>UpDown</th>\n",
              "      <th>Price</th>\n",
              "    </tr>\n",
              "  </thead>\n",
              "  <tbody>\n",
              "    <tr>\n",
              "      <th>0</th>\n",
              "      <td>1</td>\n",
              "      <td>Bitcoin</td>\n",
              "      <td>BTC</td>\n",
              "      <td>2013-04-29 23:59:59</td>\n",
              "      <td>147.488007</td>\n",
              "      <td>134.000000</td>\n",
              "      <td>134.444000</td>\n",
              "      <td>144.539993</td>\n",
              "      <td>0.0</td>\n",
              "      <td>1.603769e+09</td>\n",
              "      <td>-10.095993</td>\n",
              "      <td>1</td>\n",
              "      <td>139.000000</td>\n",
              "    </tr>\n",
              "    <tr>\n",
              "      <th>1</th>\n",
              "      <td>2</td>\n",
              "      <td>Bitcoin</td>\n",
              "      <td>BTC</td>\n",
              "      <td>2013-04-30 23:59:59</td>\n",
              "      <td>146.929993</td>\n",
              "      <td>134.050003</td>\n",
              "      <td>144.000000</td>\n",
              "      <td>139.000000</td>\n",
              "      <td>0.0</td>\n",
              "      <td>1.542813e+09</td>\n",
              "      <td>5.000000</td>\n",
              "      <td>0</td>\n",
              "      <td>116.989998</td>\n",
              "    </tr>\n",
              "    <tr>\n",
              "      <th>2</th>\n",
              "      <td>3</td>\n",
              "      <td>Bitcoin</td>\n",
              "      <td>BTC</td>\n",
              "      <td>2013-05-01 23:59:59</td>\n",
              "      <td>139.889999</td>\n",
              "      <td>107.720001</td>\n",
              "      <td>139.000000</td>\n",
              "      <td>116.989998</td>\n",
              "      <td>0.0</td>\n",
              "      <td>1.298955e+09</td>\n",
              "      <td>22.010002</td>\n",
              "      <td>0</td>\n",
              "      <td>105.209999</td>\n",
              "    </tr>\n",
              "    <tr>\n",
              "      <th>3</th>\n",
              "      <td>4</td>\n",
              "      <td>Bitcoin</td>\n",
              "      <td>BTC</td>\n",
              "      <td>2013-05-02 23:59:59</td>\n",
              "      <td>125.599998</td>\n",
              "      <td>92.281898</td>\n",
              "      <td>116.379997</td>\n",
              "      <td>105.209999</td>\n",
              "      <td>0.0</td>\n",
              "      <td>1.168517e+09</td>\n",
              "      <td>11.169998</td>\n",
              "      <td>0</td>\n",
              "      <td>97.750000</td>\n",
              "    </tr>\n",
              "    <tr>\n",
              "      <th>4</th>\n",
              "      <td>5</td>\n",
              "      <td>Bitcoin</td>\n",
              "      <td>BTC</td>\n",
              "      <td>2013-05-03 23:59:59</td>\n",
              "      <td>108.127998</td>\n",
              "      <td>79.099998</td>\n",
              "      <td>106.250000</td>\n",
              "      <td>97.750000</td>\n",
              "      <td>0.0</td>\n",
              "      <td>1.085995e+09</td>\n",
              "      <td>8.500000</td>\n",
              "      <td>0</td>\n",
              "      <td>112.500000</td>\n",
              "    </tr>\n",
              "  </tbody>\n",
              "</table>\n",
              "</div>"
            ],
            "text/plain": [
              "   SNo     Name Symbol  ... PriceDifference  UpDown       Price\n",
              "0    1  Bitcoin    BTC  ...      -10.095993       1  139.000000\n",
              "1    2  Bitcoin    BTC  ...        5.000000       0  116.989998\n",
              "2    3  Bitcoin    BTC  ...       22.010002       0  105.209999\n",
              "3    4  Bitcoin    BTC  ...       11.169998       0   97.750000\n",
              "4    5  Bitcoin    BTC  ...        8.500000       0  112.500000\n",
              "\n",
              "[5 rows x 13 columns]"
            ]
          },
          "metadata": {
            "tags": []
          },
          "execution_count": 4
        }
      ]
    },
    {
      "cell_type": "code",
      "metadata": {
        "colab": {
          "base_uri": "https://localhost:8080/",
          "height": 340
        },
        "id": "11ZhzBqy3XjO",
        "outputId": "75ed973c-3f39-4618-d01e-405665c14c60"
      },
      "source": [
        "logRegData.corr()"
      ],
      "execution_count": null,
      "outputs": [
        {
          "output_type": "execute_result",
          "data": {
            "text/html": [
              "<div>\n",
              "<style scoped>\n",
              "    .dataframe tbody tr th:only-of-type {\n",
              "        vertical-align: middle;\n",
              "    }\n",
              "\n",
              "    .dataframe tbody tr th {\n",
              "        vertical-align: top;\n",
              "    }\n",
              "\n",
              "    .dataframe thead th {\n",
              "        text-align: right;\n",
              "    }\n",
              "</style>\n",
              "<table border=\"1\" class=\"dataframe\">\n",
              "  <thead>\n",
              "    <tr style=\"text-align: right;\">\n",
              "      <th></th>\n",
              "      <th>SNo</th>\n",
              "      <th>High</th>\n",
              "      <th>Low</th>\n",
              "      <th>Open</th>\n",
              "      <th>Close</th>\n",
              "      <th>Volume</th>\n",
              "      <th>Marketcap</th>\n",
              "      <th>PriceDifference</th>\n",
              "      <th>UpDown</th>\n",
              "      <th>Price</th>\n",
              "    </tr>\n",
              "  </thead>\n",
              "  <tbody>\n",
              "    <tr>\n",
              "      <th>SNo</th>\n",
              "      <td>1.000000</td>\n",
              "      <td>0.698823</td>\n",
              "      <td>0.711804</td>\n",
              "      <td>0.704412</td>\n",
              "      <td>0.703350</td>\n",
              "      <td>0.683750</td>\n",
              "      <td>0.700296</td>\n",
              "      <td>-0.053401</td>\n",
              "      <td>0.021288</td>\n",
              "      <td>0.702287</td>\n",
              "    </tr>\n",
              "    <tr>\n",
              "      <th>High</th>\n",
              "      <td>0.698823</td>\n",
              "      <td>1.000000</td>\n",
              "      <td>0.998466</td>\n",
              "      <td>0.999172</td>\n",
              "      <td>0.999358</td>\n",
              "      <td>0.811861</td>\n",
              "      <td>0.998529</td>\n",
              "      <td>-0.104623</td>\n",
              "      <td>0.005703</td>\n",
              "      <td>0.997572</td>\n",
              "    </tr>\n",
              "    <tr>\n",
              "      <th>Low</th>\n",
              "      <td>0.711804</td>\n",
              "      <td>0.998466</td>\n",
              "      <td>1.000000</td>\n",
              "      <td>0.998568</td>\n",
              "      <td>0.999034</td>\n",
              "      <td>0.808784</td>\n",
              "      <td>0.998439</td>\n",
              "      <td>-0.109336</td>\n",
              "      <td>0.008326</td>\n",
              "      <td>0.997468</td>\n",
              "    </tr>\n",
              "    <tr>\n",
              "      <th>Open</th>\n",
              "      <td>0.704412</td>\n",
              "      <td>0.999172</td>\n",
              "      <td>0.998568</td>\n",
              "      <td>1.000000</td>\n",
              "      <td>0.998288</td>\n",
              "      <td>0.811214</td>\n",
              "      <td>0.997531</td>\n",
              "      <td>-0.072341</td>\n",
              "      <td>-0.005014</td>\n",
              "      <td>0.996477</td>\n",
              "    </tr>\n",
              "    <tr>\n",
              "      <th>Close</th>\n",
              "      <td>0.703350</td>\n",
              "      <td>0.999358</td>\n",
              "      <td>0.999034</td>\n",
              "      <td>0.998288</td>\n",
              "      <td>1.000000</td>\n",
              "      <td>0.810448</td>\n",
              "      <td>0.999305</td>\n",
              "      <td>-0.130554</td>\n",
              "      <td>0.015899</td>\n",
              "      <td>0.998305</td>\n",
              "    </tr>\n",
              "    <tr>\n",
              "      <th>Volume</th>\n",
              "      <td>0.683750</td>\n",
              "      <td>0.811861</td>\n",
              "      <td>0.808784</td>\n",
              "      <td>0.811214</td>\n",
              "      <td>0.810448</td>\n",
              "      <td>1.000000</td>\n",
              "      <td>0.818189</td>\n",
              "      <td>-0.069317</td>\n",
              "      <td>-0.000586</td>\n",
              "      <td>0.809157</td>\n",
              "    </tr>\n",
              "    <tr>\n",
              "      <th>Marketcap</th>\n",
              "      <td>0.700296</td>\n",
              "      <td>0.998529</td>\n",
              "      <td>0.998439</td>\n",
              "      <td>0.997531</td>\n",
              "      <td>0.999305</td>\n",
              "      <td>0.818189</td>\n",
              "      <td>1.000000</td>\n",
              "      <td>-0.131535</td>\n",
              "      <td>0.015489</td>\n",
              "      <td>0.997738</td>\n",
              "    </tr>\n",
              "    <tr>\n",
              "      <th>PriceDifference</th>\n",
              "      <td>-0.053401</td>\n",
              "      <td>-0.104623</td>\n",
              "      <td>-0.109336</td>\n",
              "      <td>-0.072341</td>\n",
              "      <td>-0.130554</td>\n",
              "      <td>-0.069317</td>\n",
              "      <td>-0.131535</td>\n",
              "      <td>1.000000</td>\n",
              "      <td>-0.356094</td>\n",
              "      <td>-0.132358</td>\n",
              "    </tr>\n",
              "    <tr>\n",
              "      <th>UpDown</th>\n",
              "      <td>0.021288</td>\n",
              "      <td>0.005703</td>\n",
              "      <td>0.008326</td>\n",
              "      <td>-0.005014</td>\n",
              "      <td>0.015899</td>\n",
              "      <td>-0.000586</td>\n",
              "      <td>0.015489</td>\n",
              "      <td>-0.356094</td>\n",
              "      <td>1.000000</td>\n",
              "      <td>0.016533</td>\n",
              "    </tr>\n",
              "    <tr>\n",
              "      <th>Price</th>\n",
              "      <td>0.702287</td>\n",
              "      <td>0.997572</td>\n",
              "      <td>0.997468</td>\n",
              "      <td>0.996477</td>\n",
              "      <td>0.998305</td>\n",
              "      <td>0.809157</td>\n",
              "      <td>0.997738</td>\n",
              "      <td>-0.132358</td>\n",
              "      <td>0.016533</td>\n",
              "      <td>1.000000</td>\n",
              "    </tr>\n",
              "  </tbody>\n",
              "</table>\n",
              "</div>"
            ],
            "text/plain": [
              "                      SNo      High  ...    UpDown     Price\n",
              "SNo              1.000000  0.698823  ...  0.021288  0.702287\n",
              "High             0.698823  1.000000  ...  0.005703  0.997572\n",
              "Low              0.711804  0.998466  ...  0.008326  0.997468\n",
              "Open             0.704412  0.999172  ... -0.005014  0.996477\n",
              "Close            0.703350  0.999358  ...  0.015899  0.998305\n",
              "Volume           0.683750  0.811861  ... -0.000586  0.809157\n",
              "Marketcap        0.700296  0.998529  ...  0.015489  0.997738\n",
              "PriceDifference -0.053401 -0.104623  ... -0.356094 -0.132358\n",
              "UpDown           0.021288  0.005703  ...  1.000000  0.016533\n",
              "Price            0.702287  0.997572  ...  0.016533  1.000000\n",
              "\n",
              "[10 rows x 10 columns]"
            ]
          },
          "metadata": {
            "tags": []
          },
          "execution_count": 4
        }
      ]
    },
    {
      "cell_type": "code",
      "metadata": {
        "colab": {
          "base_uri": "https://localhost:8080/"
        },
        "id": "43A71cl0t4sH",
        "outputId": "cd2043ac-e3cc-48a1-a69e-c874cf86e223"
      },
      "source": [
        "\n",
        "X = logRegData[['Open','Close','High','Low','Volume','Marketcap']]\n",
        "y = logRegData[['Price']]\n",
        "print(y)\n",
        "\n",
        "X_train, X_test, y_train, y_test=train_test_split(X,y,test_size=0.25)\n",
        "y_train=y_train['Price'].to_list()\n",
        "y_test=y_test['Price'].to_list()\n",
        "\n",
        "y= y['Price'].to_list()"
      ],
      "execution_count": null,
      "outputs": [
        {
          "output_type": "stream",
          "text": [
            "             Price\n",
            "0       139.000000\n",
            "1       116.989998\n",
            "2       105.209999\n",
            "3        97.750000\n",
            "4       112.500000\n",
            "...            ...\n",
            "2857  49705.333316\n",
            "2858  47093.853019\n",
            "2859  46339.760083\n",
            "2860  46188.451275\n",
            "2861  46188.451275\n",
            "\n",
            "[2862 rows x 1 columns]\n"
          ],
          "name": "stdout"
        }
      ]
    },
    {
      "cell_type": "code",
      "metadata": {
        "colab": {
          "base_uri": "https://localhost:8080/"
        },
        "id": "0ZCJxvKBsTAc",
        "outputId": "f87fabc4-3ac5-44e8-eac9-6a30be2df19a"
      },
      "source": [
        "from sklearn.naive_bayes import GaussianNB\n",
        "model = GaussianNB()\n",
        "\n",
        "X1 = X[['Open','Close']]\n",
        "y1 = logRegData[['UpDown']]\n",
        "\n",
        "X1_train, X1_test, y1_train, y1_test=train_test_split(X1,y1,test_size=0.25)\n",
        "y1_train=y1_train['UpDown'].to_list()\n",
        "y1_test=y1_test['UpDown'].to_list()\n",
        "\n",
        "y1= y1['UpDown'].to_list()\n",
        "\n",
        "model.fit(X1,y1)\n",
        "\n",
        "y_pred = model.predict(X1_test)\n",
        "y_pred[:10]"
      ],
      "execution_count": null,
      "outputs": [
        {
          "output_type": "execute_result",
          "data": {
            "text/plain": [
              "array([1, 1, 1, 1, 1, 1, 1, 1, 1, 1])"
            ]
          },
          "metadata": {
            "tags": []
          },
          "execution_count": 6
        }
      ]
    },
    {
      "cell_type": "code",
      "metadata": {
        "colab": {
          "base_uri": "https://localhost:8080/"
        },
        "id": "5IfxesJNvPU1",
        "outputId": "3c9f143d-babf-445f-8048-f771c53f714f"
      },
      "source": [
        "from sklearn.metrics import accuracy_score, f1_score\n",
        "nb = f1_score(y1_test,y_pred,zero_division='warn',average=None).mean()*100\n",
        "print (accuracy_score(y1_test,y_pred)*100)"
      ],
      "execution_count": null,
      "outputs": [
        {
          "output_type": "stream",
          "text": [
            "54.46927374301676\n"
          ],
          "name": "stdout"
        }
      ]
    },
    {
      "cell_type": "code",
      "metadata": {
        "colab": {
          "base_uri": "https://localhost:8080/"
        },
        "id": "HQ7BrVLzwCCC",
        "outputId": "5f9770cc-9210-41d6-a878-06fabc7730fb"
      },
      "source": [
        "from sklearn import metrics\n",
        "#print('Mean Absolute Error:', metrics.mean_absolute_error(y_test, Y_pred))\n",
        "print('Mean Squared Error:', metrics.mean_squared_error(y1_test, y_pred)*100)\n",
        "print('Root Mean Squared Error:', np.sqrt(metrics.mean_squared_error(y1_test, y_pred)))"
      ],
      "execution_count": null,
      "outputs": [
        {
          "output_type": "stream",
          "text": [
            "Mean Squared Error: 45.530726256983236\n",
            "Root Mean Squared Error: 0.6747645978930966\n"
          ],
          "name": "stdout"
        }
      ]
    },
    {
      "cell_type": "code",
      "metadata": {
        "colab": {
          "base_uri": "https://localhost:8080/"
        },
        "id": "HHYVeBA6LE3L",
        "outputId": "4fa61e24-1280-45f7-fcac-1b54e74f0697"
      },
      "source": [
        "from sklearn.neighbors import KNeighborsRegressor\n",
        "knn = KNeighborsRegressor(n_neighbors=7)\n",
        "knn.fit(X_train, y_train)\n",
        "# Predict on value which model has not seen before\n",
        "#z=knn.predict([[3,7]])"
      ],
      "execution_count": null,
      "outputs": [
        {
          "output_type": "execute_result",
          "data": {
            "text/plain": [
              "KNeighborsRegressor(algorithm='auto', leaf_size=30, metric='minkowski',\n",
              "                    metric_params=None, n_jobs=None, n_neighbors=7, p=2,\n",
              "                    weights='uniform')"
            ]
          },
          "metadata": {
            "tags": []
          },
          "execution_count": 7
        }
      ]
    },
    {
      "cell_type": "code",
      "metadata": {
        "colab": {
          "base_uri": "https://localhost:8080/"
        },
        "id": "h6ZZlzNJMcWg",
        "outputId": "0f3eb4d6-5a48-4206-9b4d-1c52c6f6a50f"
      },
      "source": [
        "z = np.round(knn.predict(X_test))\n",
        "print(z[:5],y_test[:5])"
      ],
      "execution_count": null,
      "outputs": [
        {
          "output_type": "stream",
          "text": [
            "[  467.  3680. 10173.  3669.  5759.] [439.322998046875, 3552.95306759, 9321.78129819, 3843.51996727, 5647.2099609375]\n"
          ],
          "name": "stdout"
        }
      ]
    },
    {
      "cell_type": "code",
      "metadata": {
        "colab": {
          "base_uri": "https://localhost:8080/",
          "height": 300
        },
        "id": "sL5m5r5A5xe9",
        "outputId": "7562a7f8-7f83-48b6-ba96-1cf16e9c11c6"
      },
      "source": [
        "plt.plot(X_test['Close'],y_test,color=\"orange\")\n",
        "plt.plot(X_test['Close'],z,color=\"blue\")\n",
        "plt.xlabel(\"Close\")\n",
        "plt.ylabel(\"Price\")"
      ],
      "execution_count": null,
      "outputs": [
        {
          "output_type": "execute_result",
          "data": {
            "text/plain": [
              "Text(0, 0.5, 'Price')"
            ]
          },
          "metadata": {
            "tags": []
          },
          "execution_count": 82
        },
        {
          "output_type": "display_data",
          "data": {
            "image/png": "[encoded data removed]",
            "text/plain": [
              "<Figure size 432x288 with 1 Axes>"
            ]
          },
          "metadata": {
            "tags": [],
            "needs_background": "light"
          }
        }
      ]
    },
    {
      "cell_type": "code",
      "metadata": {
        "colab": {
          "base_uri": "https://localhost:8080/"
        },
        "id": "mLjEMjEYwAJK",
        "outputId": "986babae-2eca-4f26-dbd8-be4bb2fbf915"
      },
      "source": [
        "from sklearn import metrics\n",
        "#print('Mean Absolute Error:', metrics.mean_absolute_error(y_test, Y_pred))\n",
        "print('Mean Squared Error:', metrics.mean_squared_error(y_test, z)*100)\n",
        "print('Root Mean Squared Error:', np.sqrt(metrics.mean_squared_error(y_test, z)))"
      ],
      "execution_count": null,
      "outputs": [
        {
          "output_type": "stream",
          "text": [
            "Mean Squared Error: 23278861.21658409\n",
            "Root Mean Squared Error: 482.4817221054502\n"
          ],
          "name": "stdout"
        }
      ]
    },
    {
      "cell_type": "code",
      "metadata": {
        "colab": {
          "base_uri": "https://localhost:8080/"
        },
        "id": "wbN0dERHUrgM",
        "outputId": "61e5a95f-5ee3-44f3-bdb6-67c34e0424f6"
      },
      "source": [
        "from sklearn.ensemble import RandomForestRegressor\n",
        "regressor = RandomForestRegressor(n_estimators = 40, random_state = 0)\n",
        "regressor.fit(X_train, y_train)"
      ],
      "execution_count": null,
      "outputs": [
        {
          "output_type": "execute_result",
          "data": {
            "text/plain": [
              "RandomForestRegressor(bootstrap=True, ccp_alpha=0.0, criterion='mse',\n",
              "                      max_depth=None, max_features='auto', max_leaf_nodes=None,\n",
              "                      max_samples=None, min_impurity_decrease=0.0,\n",
              "                      min_impurity_split=None, min_samples_leaf=1,\n",
              "                      min_samples_split=2, min_weight_fraction_leaf=0.0,\n",
              "                      n_estimators=40, n_jobs=None, oob_score=False,\n",
              "                      random_state=0, verbose=0, warm_start=False)"
            ]
          },
          "metadata": {
            "tags": []
          },
          "execution_count": 10
        }
      ]
    },
    {
      "cell_type": "code",
      "metadata": {
        "colab": {
          "base_uri": "https://localhost:8080/"
        },
        "id": "Js4E8sj9X6OL",
        "outputId": "4ec7bd54-adae-4bda-c73f-19440d408a46"
      },
      "source": [
        "Y_pred = regressor.predict(X_test) # test the output by changing values\n",
        "#Y_pred = list(np.floor(Y_pred))\n",
        "y_test[:5]"
      ],
      "execution_count": null,
      "outputs": [
        {
          "output_type": "execute_result",
          "data": {
            "text/plain": [
              "[439.322998046875,\n",
              " 3552.95306759,\n",
              " 9321.78129819,\n",
              " 3843.51996727,\n",
              " 5647.2099609375]"
            ]
          },
          "metadata": {
            "tags": []
          },
          "execution_count": 11
        }
      ]
    },
    {
      "cell_type": "code",
      "metadata": {
        "colab": {
          "base_uri": "https://localhost:8080/"
        },
        "id": "9R8B_VTRXvK6",
        "outputId": "22b61f39-290b-4d5e-c62b-c72fb49b32e8"
      },
      "source": [
        "from sklearn import metrics\n",
        "#print('Mean Absolute Error:', metrics.mean_absolute_error(y_test, Y_pred))\n",
        "print('Mean Squared Error:', metrics.mean_squared_error(y_test, Y_pred)*100)\n",
        "print('Root Mean Squared Error:', np.sqrt(metrics.mean_squared_error(y_test, Y_pred)))"
      ],
      "execution_count": null,
      "outputs": [
        {
          "output_type": "stream",
          "text": [
            "Mean Squared Error: 23469854.90080095\n",
            "Root Mean Squared Error: 484.4569630091093\n"
          ],
          "name": "stdout"
        }
      ]
    },
    {
      "cell_type": "code",
      "metadata": {
        "colab": {
          "base_uri": "https://localhost:8080/",
          "height": 300
        },
        "id": "7LeDNxZuJifw",
        "outputId": "739b2a7c-0298-4436-fa0d-72f28d969885"
      },
      "source": [
        "plt.plot(X_test['Close'],y_test,color=\"orange\")\n",
        "plt.plot(X_test['Close'],Y_pred,color=\"blue\")\n",
        "plt.xlabel(\"Close\")\n",
        "plt.ylabel(\"Price\")"
      ],
      "execution_count": null,
      "outputs": [
        {
          "output_type": "execute_result",
          "data": {
            "text/plain": [
              "Text(0, 0.5, 'Price')"
            ]
          },
          "metadata": {
            "tags": []
          },
          "execution_count": 61
        },
        {
          "output_type": "display_data",
          "data": {
            "image/png": "[encoded data removed]",
            "text/plain": [
              "<Figure size 432x288 with 1 Axes>"
            ]
          },
          "metadata": {
            "tags": [],
            "needs_background": "light"
          }
        }
      ]
    },
    {
      "cell_type": "code",
      "metadata": {
        "colab": {
          "base_uri": "https://localhost:8080/",
          "height": 195
        },
        "id": "DuP_U01Qcnse",
        "outputId": "4e7e2554-4f51-4303-9a3d-1a023603c413"
      },
      "source": [
        "manual = pd.read_csv('/content/drive/MyDrive/livebitcoindata.csv')\n",
        "manual.head()\n",
        "testing = manual\n",
        "testing['PriceDifference'] = testing['Open']- testing['Close']\n",
        "testing['UpDown']=np.where(testing['PriceDifference']>0,'0','1')\n",
        "testing.head()"
      ],
      "execution_count": null,
      "outputs": [
        {
          "output_type": "execute_result",
          "data": {
            "text/html": [
              "<div>\n",
              "<style scoped>\n",
              "    .dataframe tbody tr th:only-of-type {\n",
              "        vertical-align: middle;\n",
              "    }\n",
              "\n",
              "    .dataframe tbody tr th {\n",
              "        vertical-align: top;\n",
              "    }\n",
              "\n",
              "    .dataframe thead th {\n",
              "        text-align: right;\n",
              "    }\n",
              "</style>\n",
              "<table border=\"1\" class=\"dataframe\">\n",
              "  <thead>\n",
              "    <tr style=\"text-align: right;\">\n",
              "      <th></th>\n",
              "      <th>Datetime</th>\n",
              "      <th>Open</th>\n",
              "      <th>High</th>\n",
              "      <th>Low</th>\n",
              "      <th>Close</th>\n",
              "      <th>Adj Close</th>\n",
              "      <th>Volume</th>\n",
              "      <th>PriceDifference</th>\n",
              "      <th>UpDown</th>\n",
              "    </tr>\n",
              "  </thead>\n",
              "  <tbody>\n",
              "    <tr>\n",
              "      <th>0</th>\n",
              "      <td>2021-04-12 21:40:00+01:00</td>\n",
              "      <td>60225.453125</td>\n",
              "      <td>60225.453125</td>\n",
              "      <td>60215.382812</td>\n",
              "      <td>60220.113281</td>\n",
              "      <td>60220.113281</td>\n",
              "      <td>0</td>\n",
              "      <td>5.339844</td>\n",
              "      <td>0</td>\n",
              "    </tr>\n",
              "    <tr>\n",
              "      <th>1</th>\n",
              "      <td>2021-04-12 21:45:00+01:00</td>\n",
              "      <td>60205.773438</td>\n",
              "      <td>60251.160156</td>\n",
              "      <td>60205.773438</td>\n",
              "      <td>60241.347656</td>\n",
              "      <td>60241.347656</td>\n",
              "      <td>0</td>\n",
              "      <td>-35.574219</td>\n",
              "      <td>1</td>\n",
              "    </tr>\n",
              "    <tr>\n",
              "      <th>2</th>\n",
              "      <td>2021-04-12 21:50:00+01:00</td>\n",
              "      <td>60247.441406</td>\n",
              "      <td>60247.441406</td>\n",
              "      <td>60236.179688</td>\n",
              "      <td>60238.906250</td>\n",
              "      <td>60238.906250</td>\n",
              "      <td>208896</td>\n",
              "      <td>8.535156</td>\n",
              "      <td>0</td>\n",
              "    </tr>\n",
              "    <tr>\n",
              "      <th>3</th>\n",
              "      <td>2021-04-12 21:55:00+01:00</td>\n",
              "      <td>60232.863281</td>\n",
              "      <td>60233.667969</td>\n",
              "      <td>60156.992188</td>\n",
              "      <td>60156.992188</td>\n",
              "      <td>60156.992188</td>\n",
              "      <td>6852608</td>\n",
              "      <td>75.871094</td>\n",
              "      <td>0</td>\n",
              "    </tr>\n",
              "    <tr>\n",
              "      <th>4</th>\n",
              "      <td>2021-04-12 22:00:00+01:00</td>\n",
              "      <td>60146.238281</td>\n",
              "      <td>60146.238281</td>\n",
              "      <td>60090.765625</td>\n",
              "      <td>60090.765625</td>\n",
              "      <td>60090.765625</td>\n",
              "      <td>0</td>\n",
              "      <td>55.472656</td>\n",
              "      <td>0</td>\n",
              "    </tr>\n",
              "  </tbody>\n",
              "</table>\n",
              "</div>"
            ],
            "text/plain": [
              "                    Datetime          Open  ...  PriceDifference  UpDown\n",
              "0  2021-04-12 21:40:00+01:00  60225.453125  ...         5.339844       0\n",
              "1  2021-04-12 21:45:00+01:00  60205.773438  ...       -35.574219       1\n",
              "2  2021-04-12 21:50:00+01:00  60247.441406  ...         8.535156       0\n",
              "3  2021-04-12 21:55:00+01:00  60232.863281  ...        75.871094       0\n",
              "4  2021-04-12 22:00:00+01:00  60146.238281  ...        55.472656       0\n",
              "\n",
              "[5 rows x 9 columns]"
            ]
          },
          "metadata": {
            "tags": []
          },
          "execution_count": 76
        }
      ]
    },
    {
      "cell_type": "code",
      "metadata": {
        "colab": {
          "base_uri": "https://localhost:8080/"
        },
        "id": "hdS384juiTEK",
        "outputId": "632b38e1-9ba7-490b-e0e2-21405c4fa280"
      },
      "source": [
        "manual_x = testing[['Open','Close','High','Low','Volume']]\n",
        "val = model.predict(manual_x)\n",
        "updown = testing['UpDown'].to_list()"
      ],
      "execution_count": null,
      "outputs": [
        {
          "output_type": "stream",
          "text": [
            "0.0\n"
          ],
          "name": "stdout"
        },
        {
          "output_type": "stream",
          "text": [
            "/usr/local/lib/python3.7/dist-packages/sklearn/metrics/_classification.py:191: FutureWarning: elementwise comparison failed; returning scalar instead, but in the future will perform elementwise comparison\n",
            "  score = y_true == y_pred\n"
          ],
          "name": "stderr"
        }
      ]
    },
    {
      "cell_type": "code",
      "metadata": {
        "colab": {
          "base_uri": "https://localhost:8080/"
        },
        "id": "cRd0SLf5jdZw",
        "outputId": "1667df3b-b279-47ba-e6bf-ae5c622af04e"
      },
      "source": [
        "manual_x = testing[['Open','Close']]\n",
        "val1 = knn.predict(manual_x)\n",
        "updown1 = testing['UpDown'].to_list()"
      ],
      "execution_count": null,
      "outputs": [
        {
          "output_type": "stream",
          "text": [
            "0.0\n"
          ],
          "name": "stdout"
        },
        {
          "output_type": "stream",
          "text": [
            "/usr/local/lib/python3.7/dist-packages/sklearn/metrics/_classification.py:191: FutureWarning: elementwise comparison failed; returning scalar instead, but in the future will perform elementwise comparison\n",
            "  score = y_true == y_pred\n"
          ],
          "name": "stderr"
        }
      ]
    },
    {
      "cell_type": "code",
      "metadata": {
        "colab": {
          "base_uri": "https://localhost:8080/"
        },
        "id": "moskaNHsTXmT",
        "outputId": "ff699489-8c47-40c6-8555-08541e15d023"
      },
      "source": [
        "close, open = 49839.8,49704.9\t\t\n",
        "updown = 1\n",
        "manual = pd.DataFrame([{'Open':open,'Close':close}])\n",
        "enc = OrdinalEncoder()\n",
        "x1 = enc.fit_transform(manual)\n",
        "#manual = pd.DataFrame([{'Open':open}])\n",
        "val = m.predict(x1)\n",
        "if updown == val:\n",
        "  print('Predicted correctly')\n",
        "else:\n",
        "  print('Not predicted correctly')\n",
        "print(val)"
      ],
      "execution_count": null,
      "outputs": [
        {
          "output_type": "stream",
          "text": [
            "Predicted correctly\n",
            "[1]\n"
          ],
          "name": "stdout"
        }
      ]
    },
    {
      "cell_type": "code",
      "metadata": {
        "colab": {
          "base_uri": "https://localhost:8080/"
        },
        "id": "lUL51RV0gGoi",
        "outputId": "2ba8fc09-b424-4991-de47-b1762a1225a5"
      },
      "source": [
        "close, open = 53741.5,\t57170.6\t\t\t\n",
        "updown = 0\n",
        "manual = pd.DataFrame([{'Open':open,'Close':close}])\n",
        "enc = OrdinalEncoder()\n",
        "x1 = enc.fit_transform(manual)\n",
        "#manual = pd.DataFrame([{'Open':open}])\n",
        "val = m.predict(x1)\n",
        "\n",
        "#manual = pd.DataFrame([{'Open':open}])\n",
        "#val = model.predict(manual)\n",
        "if updown == val:\n",
        "  print('Predicted correctly')\n",
        "else:\n",
        "  print('Not predicted correctly')\n",
        "print(val)"
      ],
      "execution_count": null,
      "outputs": [
        {
          "output_type": "stream",
          "text": [
            "Not predicted correctly\n",
            "[1]\n"
          ],
          "name": "stdout"
        }
      ]
    },
    {
      "cell_type": "code",
      "metadata": {
        "colab": {
          "base_uri": "https://localhost:8080/"
        },
        "id": "thJkRStAf3cC",
        "outputId": "781ec84a-c2af-42a6-dc20-b7f7c523475a"
      },
      "source": [
        "close,open,high,low,volume,mar = 36720.5\t, 42898.3,\t43516.6,\t30261.7,\t60710000, 41075.8\t\t\t\n",
        "manual = pd.DataFrame([{'Open':open,'Close':close,'High':high,'Low':low,'Volume':volume,'Marketcap':mar}])\n",
        "print(manual)\n",
        "val = knn.predict(manual)\n",
        "print(val)"
      ],
      "execution_count": null,
      "outputs": [
        {
          "output_type": "stream",
          "text": [
            "      Open    Close     High      Low    Volume  Marketcap\n",
            "0  42898.3  36720.5  43516.6  30261.7  60710000    41075.8\n",
            "[79.18774305]\n"
          ],
          "name": "stdout"
        }
      ]
    },
    {
      "cell_type": "code",
      "metadata": {
        "colab": {
          "base_uri": "https://localhost:8080/"
        },
        "id": "tcBmR5Mqcn9-",
        "outputId": "22af1de7-ec11-46dd-f2f4-2b222104bac9"
      },
      "source": [
        "close, open = 42897.3\t,\t36720.5\t\t\n",
        "updown = 0\n",
        "manual = pd.DataFrame([{'Close':close}])\n",
        "val = knn.predict(manual)\n",
        "#if updown == val:\n",
        "  #print('Predicted correctly')\n",
        "#else:\n",
        "  #print('Not predicted correctly')\n",
        "print(val)"
      ],
      "execution_count": null,
      "outputs": [
        {
          "output_type": "stream",
          "text": [
            "[19127.5]\n"
          ],
          "name": "stdout"
        }
      ]
    },
    {
      "cell_type": "code",
      "metadata": {
        "id": "fJU3ORMAbyJy"
      },
      "source": [
        "from sklearn.preprocessing import StandardScaler\n",
        "scaler = StandardScaler()\n",
        "scaler.fit(X_train)\n",
        "X_train = scaler.transform(X_train)\n",
        "X_test = scaler.transform(X_test)"
      ],
      "execution_count": null,
      "outputs": []
    },
    {
      "cell_type": "code",
      "metadata": {
        "colab": {
          "base_uri": "https://localhost:8080/"
        },
        "id": "oUnQdap6VAwh",
        "outputId": "ea908714-c49a-4695-bee9-861852fe8347"
      },
      "source": [
        "close,open,high,low,volume,mar = 36720.5\t, 42898.3,\t43516.6,\t30261.7,\t60710000, 41075.8\t\t\t\n",
        "manual = pd.DataFrame([{'Open':open,'Close':close,'High':high,'Low':low,'Volume':volume,'Marketcap':mar}])\n",
        "val = regressor.predict(manual)\n",
        "print(val)"
      ],
      "execution_count": null,
      "outputs": [
        {
          "output_type": "stream",
          "text": [
            "[29769.53466546]\n"
          ],
          "name": "stdout"
        }
      ]
    },
    {
      "cell_type": "code",
      "metadata": {
        "colab": {
          "base_uri": "https://localhost:8080/"
        },
        "id": "vN8f0y7IW4Oq",
        "outputId": "cff2a835-8e59-47da-a9e6-e77fb6ebf548"
      },
      "source": [
        "close, open = 49839.8,49704.9\t\t\t\n",
        "updown = '1'\n",
        "manual = pd.DataFrame([{'Open':open,'Close':close}])\n",
        "Y_pred = list(np.floor(regressor.predict(manual))) # test the output by changing values\n",
        "if (int(updown)==int(Y_pred[0])):\n",
        "  print('Correct')\n",
        "else:\n",
        "  print('Wrong')"
      ],
      "execution_count": null,
      "outputs": [
        {
          "output_type": "stream",
          "text": [
            "Wrong\n"
          ],
          "name": "stdout"
        }
      ]
    },
    {
      "cell_type": "code",
      "metadata": {
        "colab": {
          "base_uri": "https://localhost:8080/",
          "height": 281
        },
        "id": "DEpjsLF31Cww",
        "outputId": "9dd241ec-fd62-471e-d1b1-ca1c90d1c0b3"
      },
      "source": [
        "plt.plot(X,y)\n",
        "#plt.xlabel('')\n",
        "plt.ylabel('UpDown')\n",
        "plt.title('Naive Bayes')\n",
        "plt.savefig('priceTrend1.jpg', format='jpg')"
      ],
      "execution_count": null,
      "outputs": [
        {
          "output_type": "display_data",
          "data": {
            "image/png": "[encoded data removed]",
            "text/plain": [
              "<Figure size 432x288 with 1 Axes>"
            ]
          },
          "metadata": {
            "tags": [],
            "needs_background": "light"
          }
        }
      ]
    },
    {
      "cell_type": "code",
      "metadata": {
        "colab": {
          "base_uri": "https://localhost:8080/",
          "height": 295
        },
        "id": "r640OVq3L4PL",
        "outputId": "cd8b02b6-d8d6-4a63-d360-ca37bbfc7994"
      },
      "source": [
        "#x_val =  X_test['MA_10'].to_list()\n",
        "x_val = X_test['Open'].to_list()\n",
        "plt.scatter(x_val[:5],y_test[:5])\n",
        "plt.plot(x_val[:5],z[:5],color=\"red\")\n",
        "plt.xlabel('Open price')\n",
        "plt.ylabel('Updown')\n",
        "plt.title('KNN')\n",
        "plt.savefig('Pricetrend2.jpg',format='jpg')"
      ],
      "execution_count": null,
      "outputs": [
        {
          "output_type": "display_data",
          "data": {
            "image/png": "[encoded data removed]",
            "text/plain": [
              "<Figure size 432x288 with 1 Axes>"
            ]
          },
          "metadata": {
            "tags": [],
            "needs_background": "light"
          }
        }
      ]
    }
  ]
}